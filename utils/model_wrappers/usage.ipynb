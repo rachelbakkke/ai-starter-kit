{
 "cells": [
  {
   "cell_type": "markdown",
   "metadata": {},
   "source": [
    "# SambanNova Langchain Wrappers Usage"
   ]
  },
  {
   "cell_type": "code",
   "execution_count": null,
   "metadata": {},
   "outputs": [],
   "source": [
    "import os\n",
    "\n",
    "from dotenv import load_dotenv\n",
    "from langchain_embeddings import SambaStudioEmbeddings\n",
    "from langchain_llms import SambaStudio, SambaNovaCloud\n",
    "from langchain_chat_models import ChatSambaNovaCloud, ChatSambaStudio\n",
    "from langchain_core.messages import SystemMessage, HumanMessage\n",
    "\n",
    "current_dir = os.getcwd()\n",
    "utils_dir = os.path.abspath(os.path.join(current_dir, '..'))\n",
    "repo_dir = os.path.abspath(os.path.join(utils_dir, '..'))\n",
    "\n",
    "load_dotenv(os.path.join(repo_dir, '.env'), override=True)"
   ]
  },
  {
   "cell_type": "markdown",
   "metadata": {},
   "source": [
    "# SambaStudio LLM"
   ]
  },
  {
   "cell_type": "markdown",
   "metadata": {},
   "source": [
    "## Non streaming"
   ]
  },
  {
   "cell_type": "code",
   "execution_count": 9,
   "metadata": {},
   "outputs": [],
   "source": [
    "llm = SambaStudio(\n",
    "    streaming=False,\n",
    "    # base_uri=\"api/predict/generic\",\n",
    "    model_kwargs={\n",
    "        'do_sample': False,\n",
    "        'temperature': 0.01,\n",
    "        'max_tokens_to_generate': 256,\n",
    "        'process_prompt': False,\n",
    "        'select_expert': 'Meta-Llama-3-70B-Instruct-4096',\n",
    "    },\n",
    ")"
   ]
  },
  {
   "cell_type": "code",
   "execution_count": 11,
   "metadata": {},
   "outputs": [
    {
     "data": {
      "text/plain": [
       "' of a brave knight\\nSir Valoric, the fearless knight, charged into the dark forest, his armor shining like the sun. He battled the dragon, its fiery breath singeing his beard, but he stood tall, his sword flashing in the moonlight, until the beast lay defeated at his feet, its treasure his noble reward.'"
      ]
     },
     "execution_count": 11,
     "metadata": {},
     "output_type": "execute_result"
    }
   ],
   "source": [
    "llm.invoke('tell me a 50 word tale')"
   ]
  },
  {
   "cell_type": "markdown",
   "metadata": {},
   "source": [
    "## Streaming"
   ]
  },
  {
   "cell_type": "code",
   "execution_count": null,
   "metadata": {},
   "outputs": [],
   "source": [
    "llm = SambaStudio(\n",
    "    streaming=True,\n",
    "    model_kwargs={\n",
    "        'do_sample': False,\n",
    "        'max_tokens_to_generate': 256,\n",
    "        'temperature': 0.01,\n",
    "        'process_prompt': False,\n",
    "        'select_expert': 'Meta-Llama-3-70B-Instruct-4096',\n",
    "    },\n",
    ")"
   ]
  },
  {
   "cell_type": "code",
   "execution_count": null,
   "metadata": {},
   "outputs": [
    {
     "name": "stdout",
     "output_type": "stream",
     "text": [
      " of a character who is a master of disguise\n",
      "\n",
      "Sure! Here is a 50-word tale of a character who is a master of disguise:\n",
      "\n",
      "\"Araxys, the skilled disguise artist, transformed into a stunning mermaid to infiltrate a pirate's lair. With a flick of her tail, she charmed the pirates and stole their treasure.\""
     ]
    }
   ],
   "source": [
    "for chunk in llm.stream('tell me a 50 word tale'):\n",
    "    print(chunk, end='', flush=True)"
   ]
  },
  {
   "cell_type": "markdown",
   "metadata": {},
   "source": [
    "# SambaNovaCloud LLM"
   ]
  },
  {
   "cell_type": "markdown",
   "metadata": {},
   "source": [
    "## Non Streaming"
   ]
  },
  {
   "cell_type": "code",
   "execution_count": 4,
   "metadata": {},
   "outputs": [],
   "source": [
    "llm = SambaNovaCloud(model='llama3-70b')"
   ]
  },
  {
   "cell_type": "code",
   "execution_count": 5,
   "metadata": {},
   "outputs": [
    {
     "data": {
      "text/plain": [
       "'Hello. How can I assist you today?'"
      ]
     },
     "execution_count": 5,
     "metadata": {},
     "output_type": "execute_result"
    }
   ],
   "source": [
    "import json\n",
    "\n",
    "llm.invoke(json.dumps([{'role': 'user', 'content': 'hello'}]))"
   ]
  },
  {
   "cell_type": "code",
   "execution_count": 6,
   "metadata": {},
   "outputs": [
    {
     "data": {
      "text/plain": [
       "'Hello. How can I assist you today?'"
      ]
     },
     "execution_count": 6,
     "metadata": {},
     "output_type": "execute_result"
    }
   ],
   "source": [
    "llm.invoke('hello')"
   ]
  },
  {
   "cell_type": "markdown",
   "metadata": {},
   "source": [
    "## Streaming"
   ]
  },
  {
   "cell_type": "code",
   "execution_count": 7,
   "metadata": {},
   "outputs": [
    {
     "name": "stdout",
     "output_type": "stream",
     "text": [
      "\n",
      "Here's a long story \n",
      "for you:\n",
      "\n",
      "Once upon \n",
      "a time, in a small village \n",
      "nestled in the rolling hills of \n",
      "rural France, there lived a \n",
      "young girl named Sophie. Sophie \n",
      "was a curious and adventurous \n",
      "child, with a mop of curly \n",
      "brown hair and a smile that \n",
      "could light up the darkest \n",
      "of rooms. She lived with \n",
      "her parents, Pierre and \n",
      "Colette, in a small stone cottage \n",
      "on the outskirts of \n",
      "the village.\n",
      "\n",
      "Sophie's village was \n",
      "a charming \n",
      "place, filled with narrow \n",
      "cobblestone streets, quaint shops, \n",
      "and \n",
      "bustling cafes. The villagers \n",
      "were a tight-knit \n",
      "community, and everyone knew each \n",
      "other's names and stories. Sophie \n",
      "loved listening to the villagers' \n",
      "tales of \n",
      "old, which \n",
      "often featured brave knights, \n",
      "beautiful princesses, and \n",
      "magical creatures.\n",
      "\n",
      "One day, while exploring \n",
      "the village, Sophie stumbled upon \n",
      "a small, mysterious shop tucked \n",
      "away on a quiet street. \n",
      "The sign above the door \n",
      "read \"Curios \n",
      "and Wonders,\" and the \n",
      "windows were filled \n",
      "with a dazzling array of strange \n",
      "and exotic objects. Sophie's \n",
      "curiosity was piqued, \n",
      "and she pushed open the door \n",
      "to venture inside.\n",
      "\n",
      "The shop \n",
      "was dimly lit, and \n",
      "the air was thick with the \n",
      "scent of old books and \n",
      "dust. Sophie's eyes \n",
      "adjusted slowly, and she \n",
      "saw that the shop was filled \n",
      "with all manner of curious \n",
      "objects: vintage \n",
      "clocks, rare coins, \n",
      "and even a \n",
      "taxidermied owl perched on \n",
      "a shelf. Behind the counter stood \n",
      "an old man with a kind \n",
      "face \n",
      "and a twinkle in his eye.\n",
      "\n",
      "\n",
      "\n",
      "\"Bonjour, mademoiselle,\" he \n",
      "said, his voice low and \n",
      "soothing. \"Welcome to Curios \n",
      "and Wonders. I \n",
      "am Monsieur LaFleur, \n",
      "the proprietor. How may I \n",
      "assist you \n",
      "today?\"\n",
      "\n",
      "Sophie wandered the aisles, \n",
      "running her fingers over \n",
      "the strange objects on \n",
      "display. She picked up \n",
      "a small, delicate music \n",
      "box and wound \n",
      "it up, listening \n",
      "as it played \n",
      "a soft, melancholy \n",
      "tune. Monsieur LaFleur \n",
      "smiled and nodded \n",
      "in approval.\n",
      "\n",
      "\"Ah, you have a \n",
      "good ear for \n",
      "music, mademoiselle,\" he \n",
      "said. \"That music box \n",
      "is a \n",
      "rare and precious item. It \n",
      "was crafted by a skilled artisan \n",
      "in the 18th century.\"\n",
      "\n",
      "\n",
      "As Sophie continued to \n",
      "explore the shop, \n",
      "she stumbled upon \n",
      "a large, leather-bound book \n",
      "with strange symbols etched into \n",
      "the cover. \n",
      "Monsieur LaFleur noticed her interest and \n",
      "approached \n",
      "her.\n",
      "\n",
      "\"Ah, you've found \n",
      "the infamous 'Livre \n",
      "\n",
      "des Secrets,'\" \n",
      "he said, his \n",
      "voice low and mysterious. \n",
      "\"That book is said to contain \n",
      "the secrets of the universe, \n",
      "hidden within its pages. But \n",
      "be \n",
      "warned, mademoiselle, \n",
      "the book is said to \n",
      "be cursed. Many have attempted \n",
      "to unlock its secrets, but \n",
      "none have \n",
      "succeeded.\"\n",
      "\n",
      "Sophie's eyes widened with \n",
      "excitement as she carefully opened \n",
      "the book. The pages \n",
      "were yellowed and \n",
      "crackling, and \n",
      "the text was written in a \n",
      "language she couldn't understand. \n",
      "But as she turned the \n",
      "pages, \n",
      "she felt a strange sensation, \n",
      "as if the book \n",
      "was calling \n",
      "to her.\n",
      "\n",
      "Monsieur \n",
      "LaFleur smiled \n",
      "and \n",
      "nodded. \"I see you have a \n",
      "connection to the \n",
      "book, mademoiselle. Perhaps you \n",
      "are the one who can unlock \n",
      "its secrets.\"\n",
      "\n",
      "Over the next \n",
      "few weeks, Sophie returned to \n",
      "the shop again and again, \n",
      "pouring over \n",
      "the pages of the Livre \n",
      "des Secrets. She spent hours \n",
      "studying \n",
      "the symbols and trying to decipher \n",
      "the text. \n",
      "Monsieur \n",
      "LaFleur watched her with a \n",
      "keen eye, offering guidance and encouragement \n",
      "whenever she needed it.\n",
      "\n",
      "As \n",
      "the days turned into weeks, \n",
      "Sophie began to notice strange occurrences \n",
      "happening around her. She would \n",
      "find objects moved from their \n",
      "usual places, and she would hear \n",
      "whispers in the night. She \n",
      "began \n",
      "to feel as though the book \n",
      "was exerting some kind of \n",
      "influence over her, drawing her \n",
      "deeper into \n",
      "its secrets.\n",
      "\n",
      "One \n",
      "night, Sophie had a vivid dream \n",
      "in which \n",
      "she saw herself standing in \n",
      "a \n",
      "grand, \n",
      "candlelit hall. \n",
      "The walls were lined with \n",
      "ancient tapestries, and the \n",
      "air was thick with the scent \n",
      "of \n",
      "incense. At the far end of \n",
      "the hall, she saw a \n",
      "figure cloaked in shadows.\n",
      "\n",
      "\n",
      "As she approached \n",
      "the figure, it stepped forward, \n",
      "revealing a woman \n",
      "with long, flowing hair and \n",
      "piercing green eyes. The woman \n",
      "spoke in a voice that was \n",
      "both familiar and yet \n",
      "completely alien.\n",
      "\n",
      "\"Sophie, you \n",
      "have been chosen to unlock the \n",
      "secrets of the Livre \n",
      "des Secrets,\" she \n",
      "said. \"But be warned, \n",
      "the \n",
      "journey will \n",
      "be difficult, and the cost \n",
      "will be high. Are you \n",
      "prepared to pay \n",
      "the price?\"\n",
      "\n",
      "Sophie woke up with \n",
      "a start, her heart racing and \n",
      "her mind reeling. She \n",
      "knew that she had \n",
      "to return to the shop and \n",
      "confront Monsieur LaFleur \n",
      "about the \n",
      "strange \n",
      "occurrences. But when she \n",
      "arrived at the shop, she \n",
      "found that it \n",
      "was closed, \n",
      "and \n",
      "a sign on the door \n",
      "read \"Gone on \n",
      "a \n",
      "journey. Will return \n",
      "soon.\"\n",
      "\n",
      "Sophie \n",
      "was devastated. \n",
      "She felt as though she had \n",
      "been abandoned, left \n",
      "to navigate the mysteries of \n",
      "the Livre des Secrets on \n",
      "her own. But as \n",
      "she turned to leave, she \n",
      "noticed a\n"
     ]
    }
   ],
   "source": [
    "for i in llm.stream('hello tell me a long story'):\n",
    "    print(i)"
   ]
  },
  {
   "cell_type": "markdown",
   "metadata": {},
   "source": []
  },
  {
   "cell_type": "markdown",
   "metadata": {},
   "source": [
    "# SambaStudio Chat Model"
   ]
  },
  {
   "cell_type": "markdown",
   "metadata": {},
   "source": [
    "## Non Streaming"
   ]
  },
  {
   "cell_type": "code",
   "execution_count": 2,
   "metadata": {},
   "outputs": [],
   "source": [
    "llm = ChatSambaStudio(\n",
    "    model=\"Meta-Llama-3-70B-Instruct-4096\",\n",
    "    max_tokens=1024,\n",
    "    temperature=0.3,\n",
    "    top_k=1,\n",
    "    top_p=0.01,\n",
    "    do_sample = True,\n",
    "    process_prompt = False,\n",
    ")"
   ]
  },
  {
   "cell_type": "code",
   "execution_count": 3,
   "metadata": {},
   "outputs": [
    {
     "data": {
      "text/plain": [
       "AIMessage(content=\"Here's one:\\n\\nWhy couldn't the bicycle stand up by itself?\\n\\n(Wait for it...)\\n\\nBecause it was two-tired!\\n\\nHope that made you laugh!\", additional_kwargs={}, response_metadata={'finish_reason': None, 'usage': {'prompt_tokens': 14, 'completion_tokens': 32, 'total_tokens': 46, 'throughput_after_first_token': 70.33306137927788, 'time_to_first_token': 0.22188520431518555, 'model_execution_time': 0.5915548801422119}, 'model_name': 'Meta-Llama-3-70B-Instruct-4096', 'system_fingerprint': '', 'created': 1727913501}, id='126f946f-3cbf-4739-b00b-bf99fa864d48')"
      ]
     },
     "execution_count": 3,
     "metadata": {},
     "output_type": "execute_result"
    }
   ],
   "source": [
    "llm.invoke(\"tell me a joke\")"
   ]
  },
  {
   "cell_type": "code",
   "execution_count": 4,
   "metadata": {},
   "outputs": [
    {
     "data": {
      "text/plain": [
       "AIMessage(content='Arrr, listen up, matey! Here be a joke fer ye:\\n\\nWhy did the pirate quit his job?\\n\\nBecause he was sick o\\' all the arrrr-guments! (get it? arguments, but with a pirate \"arrr\" sound? Aye, I be a regular comedic genius, savvy?)\\n\\nSo, did I make ye laugh, or did I walk the plank?', additional_kwargs={}, response_metadata={'finish_reason': None, 'usage': {'prompt_tokens': 27, 'completion_tokens': 80, 'total_tokens': 107, 'throughput_after_first_token': 71.2460325330454, 'time_to_first_token': 0.21974945068359375, 'model_execution_time': 1.2584037780761719}, 'model_name': 'Meta-Llama-3-70B-Instruct-4096', 'system_fingerprint': '', 'created': 1727913503}, id='1f48b1e1-19cb-43a2-852d-c4b11a8ab3b4')"
      ]
     },
     "execution_count": 4,
     "metadata": {},
     "output_type": "execute_result"
    }
   ],
   "source": [
    "messages = [\n",
    "    SystemMessage(content=\"You are a helpful assistant with pirate accent\"),\n",
    "    HumanMessage(content=\"tell me a joke\"),\n",
    "]\n",
    "llm.invoke(messages)"
   ]
  },
  {
   "cell_type": "code",
   "execution_count": 5,
   "metadata": {},
   "outputs": [
    {
     "data": {
      "text/plain": [
       "AIMessage(content=\"Here's one:\\n\\nWhy couldn't the bicycle stand up by itself?\\n\\n(Wait for it...)\\n\\nBecause it was two-tired!\\n\\nHope that made you laugh!\", additional_kwargs={}, response_metadata={'finish_reason': None, 'usage': {'prompt_tokens': 14, 'completion_tokens': 32, 'total_tokens': 46, 'throughput_after_first_token': 70.43063268918901, 'time_to_first_token': 0.22060894966125488, 'model_execution_time': 0.5897665023803711}, 'model_name': 'Meta-Llama-3-70B-Instruct-4096', 'system_fingerprint': '', 'created': 1727913507}, id='5960e729-b41d-4631-ac90-af1e8188b654')"
      ]
     },
     "execution_count": 5,
     "metadata": {},
     "output_type": "execute_result"
    }
   ],
   "source": [
    "future_response = llm.ainvoke(\"tell me a joke\")\n",
    "await future_response"
   ]
  },
  {
   "cell_type": "markdown",
   "metadata": {},
   "source": [
    "## Batching"
   ]
  },
  {
   "cell_type": "code",
   "execution_count": 6,
   "metadata": {},
   "outputs": [
    {
     "data": {
      "text/plain": [
       "[AIMessage(content=\"Here's one:\\n\\nWhy couldn't the bicycle stand up by itself?\\n\\n(Wait for it...)\\n\\nBecause it was two-tired!\\n\\nHope that made you laugh!\", additional_kwargs={}, response_metadata={'finish_reason': None, 'usage': {'prompt_tokens': 14, 'completion_tokens': 32, 'total_tokens': 46, 'throughput_after_first_token': 70.06468839908355, 'time_to_first_token': 0.2191941738128662, 'model_execution_time': 0.5902798175811768}, 'model_name': 'Meta-Llama-3-70B-Instruct-4096', 'system_fingerprint': '', 'created': 1727913510}, id='f6ef319e-4ba2-4117-8d63-f5823d0bc947'),\n",
       " AIMessage(content='The capital of the United Kingdom (UK) is London.', additional_kwargs={}, response_metadata={'finish_reason': None, 'usage': {'prompt_tokens': 17, 'completion_tokens': 12, 'total_tokens': 29, 'throughput_after_first_token': 62.08816650383397, 'time_to_first_token': 0.21888446807861328, 'model_execution_time': 0.315521240234375}, 'model_name': 'Meta-Llama-3-70B-Instruct-4096', 'system_fingerprint': '', 'created': 1727913509}, id='6145cc9d-7db4-4699-a47a-22445a7fdc49')]"
      ]
     },
     "execution_count": 6,
     "metadata": {},
     "output_type": "execute_result"
    }
   ],
   "source": [
    "llm.batch([\"tell me a joke\", \"which is the capital of UK?\"])"
   ]
  },
  {
   "cell_type": "code",
   "execution_count": 7,
   "metadata": {},
   "outputs": [
    {
     "data": {
      "text/plain": [
       "[AIMessage(content=\"Here's one:\\n\\nWhy couldn't the bicycle stand up by itself?\\n\\n(Wait for it...)\\n\\nBecause it was two-tired!\\n\\nHope that made you laugh!\", additional_kwargs={}, response_metadata={'finish_reason': None, 'usage': {'prompt_tokens': 14, 'completion_tokens': 32, 'total_tokens': 46, 'throughput_after_first_token': 70.03251686884015, 'time_to_first_token': 0.21899962425231934, 'model_execution_time': 0.5902557373046875}, 'model_name': 'Meta-Llama-3-70B-Instruct-4096', 'system_fingerprint': '', 'created': 1727913513}, id='33123501-e370-4a70-bda1-92c8af70865b'),\n",
       " AIMessage(content='The capital of the United Kingdom (UK) is London.', additional_kwargs={}, response_metadata={'finish_reason': None, 'usage': {'prompt_tokens': 17, 'completion_tokens': 12, 'total_tokens': 29, 'throughput_after_first_token': 62.36218692927395, 'time_to_first_token': 0.21871089935302734, 'model_execution_time': 0.3149230480194092}, 'model_name': 'Meta-Llama-3-70B-Instruct-4096', 'system_fingerprint': '', 'created': 1727913512}, id='d4d5e44a-c6eb-4298-be34-57b08e691931')]"
      ]
     },
     "execution_count": 7,
     "metadata": {},
     "output_type": "execute_result"
    }
   ],
   "source": [
    "future_responses = llm.abatch([\"tell me a joke\", \"which is the capital of UK?\"])\n",
    "await future_responses"
   ]
  },
  {
   "cell_type": "markdown",
   "metadata": {},
   "source": [
    "## Streaming"
   ]
  },
  {
   "cell_type": "code",
   "execution_count": 8,
   "metadata": {},
   "outputs": [
    {
     "name": "stdout",
     "output_type": "stream",
     "text": [
      "Here's one:\n",
      "\n",
      "Why couldn't the bicycle stand up by itself?\n",
      "\n",
      "(Wait for it...)\n",
      "\n",
      "Because it was two-tired!\n",
      "\n",
      "Hope that made you laugh!"
     ]
    }
   ],
   "source": [
    "for chunk in llm.stream(\"tell me a joke\"):\n",
    "    print(chunk.content, end=\"\")"
   ]
  },
  {
   "cell_type": "code",
   "execution_count": 9,
   "metadata": {},
   "outputs": [
    {
     "name": "stdout",
     "output_type": "stream",
     "text": [
      "Arrr, \n",
      "listen up, matey! Here \n",
      "be a joke fer ye:\n",
      "\n",
      "\n",
      "Why did the pirate quit his job?\n",
      "\n",
      "\n",
      "Because he was \n",
      "sick o' all \n",
      "the arrrr-guments! (get \n",
      "it? arguments, but with a \n",
      "pirate \"arrr\" \n",
      "sound? Aye, I be \n",
      "a regular comedic genius, savvy?)\n",
      "\n",
      "\n",
      "So, did I make \n",
      "ye laugh, or did I \n",
      "walk the plank?\n",
      "\n"
     ]
    }
   ],
   "source": [
    "messages = [\n",
    "    SystemMessage(content=\"You are a helpful assistant with pirate accent\"),\n",
    "    HumanMessage(content=\"tell me a joke\"),\n",
    "]\n",
    "for chunk in llm.stream(messages):\n",
    "    print(chunk.content)"
   ]
  },
  {
   "cell_type": "code",
   "execution_count": 10,
   "metadata": {},
   "outputs": [
    {
     "name": "stdout",
     "output_type": "stream",
     "text": [
      "Here's one:\n",
      "\n",
      "\n",
      "Why couldn't the bicycle stand \n",
      "up by itself?\n",
      "\n",
      "(Wait \n",
      "for it...)\n",
      "\n",
      "Because it \n",
      "was two-tired!\n",
      "\n",
      "Hope that \n",
      "made you laugh!\n",
      "\n"
     ]
    }
   ],
   "source": [
    "async for chunk in llm.astream(\"tell me a joke\"):\n",
    "    print(chunk.content)"
   ]
  },
  {
   "cell_type": "markdown",
   "metadata": {},
   "source": [
    "# SambaNova Cloud Chat Model"
   ]
  },
  {
   "cell_type": "markdown",
   "metadata": {},
   "source": [
    "## Non Streaming"
   ]
  },
  {
   "cell_type": "code",
   "execution_count": 11,
   "metadata": {},
   "outputs": [],
   "source": [
    "llm = ChatSambaNovaCloud(\n",
    "    model= \"llama3-405b\",\n",
    "    max_tokens=1024,\n",
    "    temperature=0.7,\n",
    "    top_k=1,\n",
    "    top_p=0.01,\n",
    "    stream_options={'include_usage':True}\n",
    "    )"
   ]
  },
  {
   "cell_type": "code",
   "execution_count": 12,
   "metadata": {},
   "outputs": [
    {
     "data": {
      "text/plain": [
       "AIMessage(content='A man walked into a library and asked the librarian, \"Do you have any books on Pavlov\\'s dogs and Schrödinger\\'s cat?\"\\n\\nThe librarian replied, \"It rings a bell, but I\\'m not sure if it\\'s here or not.\"', additional_kwargs={}, response_metadata={'finish_reason': 'stop', 'usage': {'acceptance_rate': 6.875, 'completion_tokens': 54, 'completion_tokens_after_first_per_sec': 146.6490519186912, 'completion_tokens_after_first_per_sec_first_ten': 172.75245626647495, 'completion_tokens_per_sec': 82.40550555345376, 'end_time': 1727913533.7847056, 'is_last_response': True, 'prompt_tokens': 39, 'start_time': 1727913533.0805886, 'time_to_first_token': 0.342710018157959, 'total_latency': 0.6552960222417659, 'total_tokens': 93, 'total_tokens_per_sec': 141.92059289761482}, 'model_name': 'llama3-405b', 'system_fingerprint': 'fastcoe', 'created': 1727913533}, id='2a8be2d0-8947-4296-ab85-d8b78eff390c')"
      ]
     },
     "execution_count": 12,
     "metadata": {},
     "output_type": "execute_result"
    }
   ],
   "source": [
    "llm.invoke(\"tell me a joke\")"
   ]
  },
  {
   "cell_type": "code",
   "execution_count": 13,
   "metadata": {},
   "outputs": [
    {
     "data": {
      "text/plain": [
       "AIMessage(content=\"Yer lookin' fer a joke, eh? Alright then, matey! Here be one fer ye:\\n\\nWhy did the pirate quit his job?\\n\\n(pause fer dramatic effect)\\n\\nBecause he was sick o' all the arrrr-guments!\\n\\nYarrr, hope that made ye laugh, me hearty!\", additional_kwargs={}, response_metadata={'finish_reason': 'stop', 'usage': {'acceptance_rate': 5.153846153846154, 'completion_tokens': 64, 'completion_tokens_after_first_per_sec': 112.16796935854752, 'completion_tokens_after_first_per_sec_first_ten': 129.12026053938416, 'completion_tokens_per_sec': 76.30859164791121, 'end_time': 1727913536.4593658, 'is_last_response': True, 'prompt_tokens': 47, 'start_time': 1727913535.5546703, 'time_to_first_token': 0.34303784370422363, 'total_latency': 0.8386997927480668, 'total_tokens': 111, 'total_tokens_per_sec': 132.347713639346}, 'model_name': 'llama3-405b', 'system_fingerprint': 'fastcoe', 'created': 1727913535}, id='e5c8ca43-48d2-441f-89ba-159cb59ebfc3')"
      ]
     },
     "execution_count": 13,
     "metadata": {},
     "output_type": "execute_result"
    }
   ],
   "source": [
    "messages = [\n",
    "    SystemMessage(content=\"You are a helpful assistant with pirate accent\"),\n",
    "    HumanMessage(content=\"tell me a joke\")\n",
    "    ]\n",
    "llm.invoke(messages)"
   ]
  },
  {
   "cell_type": "code",
   "execution_count": 14,
   "metadata": {},
   "outputs": [
    {
     "data": {
      "text/plain": [
       "AIMessage(content='A man walked into a library and asked the librarian, \"Do you have any books on Pavlov\\'s dogs and Schrödinger\\'s cat?\"\\n\\nThe librarian replied, \"It rings a bell, but I\\'m not sure if it\\'s here or not.\"', additional_kwargs={}, response_metadata={'finish_reason': 'stop', 'usage': {'acceptance_rate': 6.875, 'completion_tokens': 54, 'completion_tokens_after_first_per_sec': 140.31482546341212, 'completion_tokens_after_first_per_sec_first_ten': 165.52344871132541, 'completion_tokens_per_sec': 79.00364415123241, 'end_time': 1727913538.4355943, 'is_last_response': True, 'prompt_tokens': 39, 'start_time': 1727913537.7005973, 'time_to_first_token': 0.35727500915527344, 'total_latency': 0.6835127743807705, 'total_tokens': 93, 'total_tokens_per_sec': 136.06183159378915}, 'model_name': 'llama3-405b', 'system_fingerprint': 'fastcoe', 'created': 1727913537}, id='1ec805fa-5723-4b39-b4ef-b8c569b9075a')"
      ]
     },
     "execution_count": 14,
     "metadata": {},
     "output_type": "execute_result"
    }
   ],
   "source": [
    "future_response = llm.ainvoke(\"tell me a joke\")\n",
    "await(future_response) "
   ]
  },
  {
   "cell_type": "markdown",
   "metadata": {},
   "source": [
    "## Batching"
   ]
  },
  {
   "cell_type": "code",
   "execution_count": 15,
   "metadata": {},
   "outputs": [],
   "source": [
    "llm = ChatSambaNovaCloud(\n",
    "    model= \"llama3-405b\",\n",
    "    streaming=False,\n",
    "    max_tokens=1024,\n",
    "    temperature=0.7,\n",
    "    top_k=1,\n",
    "    top_p=0.01,\n",
    "    stream_options={'include_usage':True}\n",
    "    )"
   ]
  },
  {
   "cell_type": "code",
   "execution_count": 16,
   "metadata": {},
   "outputs": [
    {
     "data": {
      "text/plain": [
       "[AIMessage(content='A man walked into a library and asked the librarian, \"Do you have any books on Pavlov\\'s dogs and Schrödinger\\'s cat?\"\\n\\nThe librarian replied, \"It rings a bell, but I\\'m not sure if it\\'s here or not.\"', additional_kwargs={}, response_metadata={'finish_reason': 'stop', 'usage': {'acceptance_rate': 6.875, 'completion_tokens': 54, 'completion_tokens_after_first_per_sec': 146.6462464047286, 'completion_tokens_after_first_per_sec_first_ten': 172.78143949380438, 'completion_tokens_per_sec': 82.37972702699832, 'end_time': 1727913541.350326, 'is_last_response': True, 'prompt_tokens': 39, 'start_time': 1727913540.6459446, 'time_to_first_token': 0.34296751022338867, 'total_latency': 0.6555010795593261, 'total_tokens': 93, 'total_tokens_per_sec': 141.8761965464971}, 'model_name': 'llama3-405b', 'system_fingerprint': 'fastcoe', 'created': 1727913540}, id='1ea6c4d0-a67f-4f76-b973-bbc68342dfe5'),\n",
       " AIMessage(content='The capital of the United Kingdom is London.', additional_kwargs={}, response_metadata={'finish_reason': 'stop', 'usage': {'acceptance_rate': 13, 'completion_tokens': 10, 'completion_tokens_after_first_per_sec': 109.95108396466301, 'completion_tokens_after_first_per_sec_first_ten': 326.4030266206129, 'completion_tokens_per_sec': 26.74456470663944, 'end_time': 1727913541.0702176, 'is_last_response': True, 'prompt_tokens': 42, 'start_time': 1727913540.6450922, 'time_to_first_token': 0.34327077865600586, 'total_latency': 0.37390774946946365, 'total_tokens': 52, 'total_tokens_per_sec': 139.0717364745251}, 'model_name': 'llama3-405b', 'system_fingerprint': 'fastcoe', 'created': 1727913540}, id='cd3c3f30-2c48-4494-9424-13113fd89371')]"
      ]
     },
     "execution_count": 16,
     "metadata": {},
     "output_type": "execute_result"
    }
   ],
   "source": [
    "llm.batch([\"tell me a joke\",\"which is the capital of UK?\"])"
   ]
  },
  {
   "cell_type": "code",
   "execution_count": 17,
   "metadata": {},
   "outputs": [
    {
     "data": {
      "text/plain": [
       "[AIMessage(content='A man walked into a library and asked the librarian, \"Do you have any books on Pavlov\\'s dogs and Schrödinger\\'s cat?\"\\n\\nThe librarian replied, \"It rings a bell, but I\\'m not sure if it\\'s here or not.\"', additional_kwargs={}, response_metadata={'finish_reason': 'stop', 'usage': {'acceptance_rate': 6.875, 'completion_tokens': 54, 'completion_tokens_after_first_per_sec': 116.25315057604108, 'completion_tokens_after_first_per_sec_first_ten': 136.77229629418824, 'completion_tokens_per_sec': 35.56309530157825, 'end_time': 1727913544.6331508, 'is_last_response': True, 'prompt_tokens': 39, 'start_time': 1727913543.053638, 'time_to_first_token': 1.1236112117767334, 'total_latency': 1.5184280092065985, 'total_tokens': 93, 'total_tokens_per_sec': 61.24755301938477}, 'model_name': 'llama3-405b', 'system_fingerprint': 'fastcoe', 'created': 1727913543}, id='d7ae271e-922e-4157-8659-7b68813ea8e5'),\n",
       " AIMessage(content='The capital of the United Kingdom is London.', additional_kwargs={}, response_metadata={'finish_reason': 'stop', 'usage': {'acceptance_rate': 9.5, 'completion_tokens': 10, 'completion_tokens_after_first_per_sec': 58.64865251180004, 'completion_tokens_after_first_per_sec_first_ten': 188.99444578833283, 'completion_tokens_per_sec': 8.499622645002928, 'end_time': 1727913544.3307054, 'is_last_response': True, 'prompt_tokens': 42, 'start_time': 1727913543.053638, 'time_to_first_token': 1.1236112117767334, 'total_latency': 1.1765228196194297, 'total_tokens': 52, 'total_tokens_per_sec': 44.198037754015225}, 'model_name': 'llama3-405b', 'system_fingerprint': 'fastcoe', 'created': 1727913543}, id='d7ae271e-922e-4157-8659-7b68813ea8e5')]"
      ]
     },
     "execution_count": 17,
     "metadata": {},
     "output_type": "execute_result"
    }
   ],
   "source": [
    "future_responses = llm.abatch([\"tell me a joke\",\"which is the capital of UK?\"])\n",
    "await(future_responses)"
   ]
  },
  {
   "cell_type": "markdown",
   "metadata": {},
   "source": [
    "## Streaming"
   ]
  },
  {
   "cell_type": "code",
   "execution_count": 18,
   "metadata": {},
   "outputs": [],
   "source": [
    "llm = ChatSambaNovaCloud(\n",
    "    model= \"llama3-405b\",\n",
    "    streaming=True,\n",
    "    max_tokens=1024,\n",
    "    temperature=0.7,\n",
    "    top_k=1,\n",
    "    top_p=0.01,\n",
    "    stream_options={'include_usage':True}\n",
    "    )"
   ]
  },
  {
   "cell_type": "code",
   "execution_count": 19,
   "metadata": {},
   "outputs": [
    {
     "name": "stdout",
     "output_type": "stream",
     "text": [
      "\n",
      "A man walked into a \n",
      "library and asked the \n",
      "librarian, \"Do you have any books \n",
      "on Pavlov's dogs \n",
      "and Schrödinger's cat?\"\n",
      "\n",
      "\n",
      "The librarian \n",
      "replied, \"It rings a bell, \n",
      "but I'm not sure \n",
      "if it's here \n",
      "or not.\"\n",
      "\n",
      "\n",
      "\n"
     ]
    }
   ],
   "source": [
    "for chunk in llm.stream(\"tell me a joke\"):\n",
    "    print(chunk.content)"
   ]
  },
  {
   "cell_type": "code",
   "execution_count": 20,
   "metadata": {},
   "outputs": [
    {
     "name": "stdout",
     "output_type": "stream",
     "text": [
      "\n",
      "Yer lookin' \n",
      "fer a joke, eh? \n",
      "Alright then, matey! \n",
      "Here be \n",
      "one fer ye:\n",
      "\n",
      "Why did \n",
      "the pirate quit \n",
      "his job?\n",
      "\n",
      "(pause fer \n",
      "dramatic effect)\n",
      "\n",
      "Because \n",
      "he was sick o' all \n",
      "the arrrr-guments!\n",
      "\n",
      "\n",
      "\n",
      "\n",
      "Yarrr, hope that made ye \n",
      "laugh, \n",
      "me hearty!\n",
      "\n",
      "\n",
      "\n"
     ]
    }
   ],
   "source": [
    "messages = [\n",
    "    SystemMessage(content=\"You are a helpful assistant with pirate accent\"),\n",
    "    HumanMessage(content=\"tell me a joke\")\n",
    "    ]\n",
    "for chunk in llm.stream(messages):\n",
    "    print(chunk.content)"
   ]
  },
  {
   "cell_type": "code",
   "execution_count": 21,
   "metadata": {},
   "outputs": [
    {
     "name": "stdout",
     "output_type": "stream",
     "text": [
      "\n",
      "A man walked into a \n",
      "library and asked the \n",
      "librarian, \"Do you have any books \n",
      "on Pavlov's dogs \n",
      "and Schrödinger's cat?\"\n",
      "\n",
      "\n",
      "The librarian \n",
      "replied, \"It rings a bell, \n",
      "but I'm not sure \n",
      "if it's here \n",
      "or not.\"\n",
      "\n",
      "\n",
      "\n"
     ]
    }
   ],
   "source": [
    "async for chunk in llm.astream(\"tell me a joke\"):\n",
    "    print(chunk.content)"
   ]
  },
  {
   "cell_type": "markdown",
   "metadata": {},
   "source": [
    "# Sambastudio Embeddings"
   ]
  },
  {
   "cell_type": "code",
   "execution_count": null,
   "metadata": {},
   "outputs": [],
   "source": [
    "embedding = SambaStudioEmbeddings(batch_size=1, model_kwargs={'select_expert': 'e5-mistral-7b-instruct'})\n",
    "embedding.embed_documents(['tell me a 50 word tale', 'tell me a joke'])\n",
    "embedding.embed_query('tell me a 50 word tale')"
   ]
  },
  {
   "cell_type": "code",
   "execution_count": 13,
   "metadata": {},
   "outputs": [
    {
     "name": "stderr",
     "output_type": "stream",
     "text": [
      "/Users/jorgep/Documents/ask_public_own/finetuning_env/lib/python3.11/site-packages/langchain_core/_api/deprecation.py:139: LangChainDeprecationWarning: The method `BaseRetriever.get_relevant_documents` was deprecated in langchain-core 0.1.46 and will be removed in 0.3.0. Use invoke instead.\n",
      "  warn_deprecated(\n"
     ]
    },
    {
     "data": {
      "text/plain": [
       "[Document(page_content='tell me a 50 word tale'),\n",
       " Document(page_content='tell me a joke'),\n",
       " Document(page_content='give me 3 party activities'),\n",
       " Document(page_content='give me three healty dishes')]"
      ]
     },
     "execution_count": 13,
     "metadata": {},
     "output_type": "execute_result"
    }
   ],
   "source": [
    "from langchain.schema import Document\n",
    "from langchain.vectorstores import Chroma\n",
    "\n",
    "docs = [\n",
    "    'tell me a 50 word tale',\n",
    "    'tell me a joke',\n",
    "    'when was America discoverd?',\n",
    "    'how to build an engine?',\n",
    "    'give me 3 party activities',\n",
    "    'give me three healty dishes',\n",
    "]\n",
    "docs = [Document(doc) for doc in docs]\n",
    "\n",
    "query = 'prompt for generating something fun'\n",
    "\n",
    "vectordb = Chroma.from_documents(docs, embedding)\n",
    "retriever = vectordb.as_retriever()\n",
    "\n",
    "retriever.get_relevant_documents(query)"
   ]
  },
  {
   "cell_type": "code",
   "execution_count": null,
   "metadata": {},
   "outputs": [],
   "source": []
  }
 ],
 "metadata": {
  "kernelspec": {
   "display_name": "peenv",
   "language": "python",
   "name": "python3"
  },
  "language_info": {
   "codemirror_mode": {
    "name": "ipython",
    "version": 3
   },
   "file_extension": ".py",
   "mimetype": "text/x-python",
   "name": "python",
   "nbconvert_exporter": "python",
   "pygments_lexer": "ipython3",
   "version": "3.11.3"
  }
 },
 "nbformat": 4,
 "nbformat_minor": 2
}
