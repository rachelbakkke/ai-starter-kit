{
 "cells": [
  {
   "cell_type": "code",
   "execution_count": null,
   "metadata": {},
   "outputs": [],
   "source": [
    "import json\n",
    "import os\n",
    "import sys\n",
    "\n",
    "sys.path.append('../')\n",
    "sys.path.append('../src')\n",
    "sys.path.append('../prompts')\n",
    "sys.path.append('../src/llmperf')\n",
    "\n",
    "import matplotlib.pyplot as plt\n",
    "import numpy as np\n",
    "import pandas as pd\n",
    "import seaborn as sns\n",
    "from benchmarking.src.llmperf import llmperf_utils\n",
    "from benchmarking.src.performance_evaluation import SyntheticPerformanceEvaluator"
   ]
  },
  {
   "cell_type": "markdown",
   "metadata": {},
   "source": [
    "# Run multiple models through the benchmarking process"
   ]
  },
  {
   "cell_type": "markdown",
   "metadata": {},
   "source": [
    "__Note:__ This analysis will work if a COE endpoint is used. Users will be able to test and compare performance metrics for different experts."
   ]
  },
  {
   "cell_type": "markdown",
   "metadata": {},
   "source": [
    "# Meta-Llama-3.1-70B-Instruct"
   ]
  },
  {
   "cell_type": "code",
   "execution_count": null,
   "metadata": {},
   "outputs": [],
   "source": [
    "# # SambaNova Cloud example\n",
    "# model_names = ['Meta-Llama-3.1-70B-Instruct']\n",
    "# llm_api = 'sncloud'\n",
    "\n",
    "# # additional parameters\n",
    "# results_dir = '../data/results/aramco_low_power/llama_3.1_70b'\n",
    "# num_concurrent_requests = [1, 10, 100]\n",
    "# timeout = 60000\n",
    "# num_input_tokens = [100, 1_000, 10_000, 50_000, 100_000]\n",
    "# num_output_tokens = [100, 1_000]\n",
    "# sampling_params = {}\n",
    "# user_metadata = {}"
   ]
  },
  {
   "cell_type": "code",
   "execution_count": null,
   "metadata": {},
   "outputs": [],
   "source": [
    "# low power\n",
    "\n",
    "# SambaNova Cloud example\n",
    "model_names = ['Meta-Llama-3.1-70B-Instruct']\n",
    "llm_api = 'sncloud'\n",
    "\n",
    "# additional parameters\n",
    "results_dir = '../data/results/aramco_low_power/llama_3.1_70b'\n",
    "num_concurrent_requests = [1, 10, 100]\n",
    "timeout = 60000\n",
    "num_input_tokens = [1_000]\n",
    "num_output_tokens = [1_000]\n",
    "sampling_params = {}\n",
    "user_metadata = {}"
   ]
  },
  {
   "cell_type": "code",
   "execution_count": null,
   "metadata": {},
   "outputs": [],
   "source": [
    "df_all_summary_results = pd.DataFrame()\n",
    "for model_idx, model_name in enumerate(model_names):\n",
    "    for input_tokens in num_input_tokens:\n",
    "        for output_tokens in num_output_tokens:\n",
    "            for concurrent_requests in num_concurrent_requests:\n",
    "                num_requests = concurrent_requests*10\n",
    "                print(f'running model_name {model_name}, input_tokens {input_tokens}, output_tokens {output_tokens}, concurrent_requests {concurrent_requests}, num_requests {num_requests}')\n",
    "                user_metadata['model_idx'] = model_idx\n",
    "                # Instantiate evaluator\n",
    "                evaluator = SyntheticPerformanceEvaluator(\n",
    "                    model_name=model_name,\n",
    "                    results_dir=results_dir,\n",
    "                    num_concurrent_requests=concurrent_requests,\n",
    "                    timeout=timeout,\n",
    "                    user_metadata=user_metadata,\n",
    "                    llm_api=llm_api,\n",
    "                )\n",
    "\n",
    "                # Run performance evaluation\n",
    "                model_results_summary, model_results_per_request = evaluator.run_benchmark(\n",
    "                    num_input_tokens=input_tokens,\n",
    "                    num_output_tokens=output_tokens,\n",
    "                    num_requests=num_requests,\n",
    "                    sampling_params=sampling_params,\n",
    "                )\n",
    "\n",
    "                flatten_model_results_summary = llmperf_utils.flatten_dict(model_results_summary)\n",
    "                filtered_flatten_model_results_summary = {\n",
    "                    key: value for key, value in flatten_model_results_summary.items() if key not in ['model']\n",
    "                }\n",
    "                df_model_results_summary = pd.DataFrame.from_dict(\n",
    "                    filtered_flatten_model_results_summary, orient='index', columns=[flatten_model_results_summary['model']]\n",
    "                )\n",
    "\n",
    "                df_all_summary_results = pd.concat([df_all_summary_results, df_model_results_summary], axis=1)"
   ]
  },
  {
   "cell_type": "markdown",
   "metadata": {},
   "source": [
    "# Meta-Llama-3.1-405B-Instruct"
   ]
  },
  {
   "cell_type": "code",
   "execution_count": null,
   "metadata": {},
   "outputs": [],
   "source": [
    "# SambaNova Cloud example\n",
    "model_names = ['Meta-Llama-3.1-405B-Instruct']\n",
    "llm_api = 'sncloud'\n",
    "\n",
    "# additional parameters\n",
    "results_dir = '../data/results/aramco_2/llama_3.1_405b'\n",
    "num_concurrent_requests = [1, 10, 100]\n",
    "timeout = 60000\n",
    "num_input_tokens = [100, 1_000, 10_000]\n",
    "num_output_tokens = [100, 1_000]\n",
    "sampling_params = {}\n",
    "user_metadata = {}"
   ]
  },
  {
   "cell_type": "code",
   "execution_count": null,
   "metadata": {},
   "outputs": [],
   "source": [
    "df_all_summary_results = pd.DataFrame()\n",
    "for model_idx, model_name in enumerate(model_names):\n",
    "    for input_tokens in num_input_tokens:\n",
    "        for output_tokens in num_output_tokens:\n",
    "            for concurrent_requests in num_concurrent_requests:\n",
    "                num_requests = concurrent_requests*10\n",
    "                print(f'running model_name {model_name}, input_tokens {input_tokens}, output_tokens {output_tokens}, concurrent_requests {concurrent_requests}, num_requests {num_requests}')\n",
    "                user_metadata['model_idx'] = model_idx\n",
    "                # Instantiate evaluator\n",
    "                evaluator = SyntheticPerformanceEvaluator(\n",
    "                    model_name=model_name,\n",
    "                    results_dir=results_dir,\n",
    "                    num_concurrent_requests=concurrent_requests,\n",
    "                    timeout=timeout,\n",
    "                    user_metadata=user_metadata,\n",
    "                    llm_api=llm_api,\n",
    "                )\n",
    "\n",
    "                # Run performance evaluation\n",
    "                model_results_summary, model_results_per_request = evaluator.run_benchmark(\n",
    "                    num_input_tokens=input_tokens,\n",
    "                    num_output_tokens=output_tokens,\n",
    "                    num_requests=num_requests,\n",
    "                    sampling_params=sampling_params,\n",
    "                )\n",
    "\n",
    "                flatten_model_results_summary = llmperf_utils.flatten_dict(model_results_summary)\n",
    "                filtered_flatten_model_results_summary = {\n",
    "                    key: value for key, value in flatten_model_results_summary.items() if key not in ['model']\n",
    "                }\n",
    "                df_model_results_summary = pd.DataFrame.from_dict(\n",
    "                    filtered_flatten_model_results_summary, orient='index', columns=[flatten_model_results_summary['model']]\n",
    "                )\n",
    "\n",
    "                df_all_summary_results = pd.concat([df_all_summary_results, df_model_results_summary], axis=1)"
   ]
  },
  {
   "cell_type": "markdown",
   "metadata": {},
   "source": [
    "# Mixtral-8x7B-Instruct-v0.1"
   ]
  },
  {
   "cell_type": "code",
   "execution_count": null,
   "metadata": {},
   "outputs": [],
   "source": [
    "# SambaNova Cloud example\n",
    "model_names = ['Mixtral-8x7B-Instruct-v0.1']\n",
    "llm_api = 'sncloud'\n",
    "\n",
    "# additional parameters\n",
    "results_dir = '../data/results/aramco/mixtral_8_7b'\n",
    "num_concurrent_requests = [1, 10, 100]\n",
    "timeout = 60000\n",
    "num_input_tokens = [100, 1_000]\n",
    "num_output_tokens = [100, 1_000]\n",
    "sampling_params = {}\n",
    "user_metadata = {}"
   ]
  },
  {
   "cell_type": "code",
   "execution_count": null,
   "metadata": {},
   "outputs": [],
   "source": [
    "df_all_summary_results = pd.DataFrame()\n",
    "for model_idx, model_name in enumerate(model_names):\n",
    "    for input_tokens in num_input_tokens:\n",
    "        for output_tokens in num_output_tokens:\n",
    "            for concurrent_requests in num_concurrent_requests:\n",
    "                num_requests = concurrent_requests*10\n",
    "                print(f'running model_name {model_name}, input_tokens {input_tokens}, output_tokens {output_tokens}, concurrent_requests {concurrent_requests}, num_requests {num_requests}')\n",
    "                user_metadata['model_idx'] = model_idx\n",
    "                # Instantiate evaluator\n",
    "                evaluator = SyntheticPerformanceEvaluator(\n",
    "                    model_name=model_name,\n",
    "                    results_dir=results_dir,\n",
    "                    num_concurrent_requests=concurrent_requests,\n",
    "                    timeout=timeout,\n",
    "                    user_metadata=user_metadata,\n",
    "                    llm_api=llm_api,\n",
    "                )\n",
    "\n",
    "                # Run performance evaluation\n",
    "                model_results_summary, model_results_per_request = evaluator.run_benchmark(\n",
    "                    num_input_tokens=input_tokens,\n",
    "                    num_output_tokens=output_tokens,\n",
    "                    num_requests=num_requests,\n",
    "                    sampling_params=sampling_params,\n",
    "                )\n",
    "\n",
    "                flatten_model_results_summary = llmperf_utils.flatten_dict(model_results_summary)\n",
    "                filtered_flatten_model_results_summary = {\n",
    "                    key: value for key, value in flatten_model_results_summary.items() if key not in ['model']\n",
    "                }\n",
    "                df_model_results_summary = pd.DataFrame.from_dict(\n",
    "                    filtered_flatten_model_results_summary, orient='index', columns=[flatten_model_results_summary['model']]\n",
    "                )\n",
    "\n",
    "                df_all_summary_results = pd.concat([df_all_summary_results, df_model_results_summary], axis=1)"
   ]
  },
  {
   "cell_type": "markdown",
   "metadata": {},
   "source": [
    "# Consolidate results"
   ]
  },
  {
   "cell_type": "code",
   "execution_count": null,
   "metadata": {},
   "outputs": [],
   "source": [
    "\n",
    "def read_json_files(folder_path):\n",
    "    data = []\n",
    "    \n",
    "    # Iterate through all files in the folder\n",
    "    for filename in os.listdir(folder_path):\n",
    "        # Check if the file ends with 'individual_responses.json'\n",
    "        if filename.endswith('individual_responses.json'):\n",
    "            file_path = os.path.join(folder_path, filename)\n",
    "            \n",
    "            # Open and load the JSON file\n",
    "            with open(file_path, 'r') as file:\n",
    "                try:\n",
    "                    json_data = json.load(file)\n",
    "                    json_data = [{**request_response, 'filename': filename} for request_response in json_data]\n",
    "                    data.append(json_data)\n",
    "                except json.JSONDecodeError as e:\n",
    "                    print(f\"Error reading {file_path}: {e}\")\n",
    "    return data"
   ]
  },
  {
   "cell_type": "code",
   "execution_count": null,
   "metadata": {},
   "outputs": [],
   "source": [
    "results_dir = '../data/results/aramco_client_in_us'\n",
    "all_responses = read_json_files(results_dir)\n",
    "len(all_responses)"
   ]
  },
  {
   "cell_type": "code",
   "execution_count": null,
   "metadata": {},
   "outputs": [],
   "source": [
    "run_stats = []\n",
    "for run in all_responses:\n",
    "    metrics = {\n",
    "        'filename': [],\n",
    "        'input_tokens': [],\n",
    "        'output_tokens': [],\n",
    "        'concurrent_requests': [], \n",
    "        'server_number_input_tokens': [],\n",
    "        'server_number_output_tokens': [],\n",
    "        'server_ttft_s': [], \n",
    "        'server_output_token_per_s_per_request': [],\n",
    "        'server_end_to_end_latency_s': [],\n",
    "        'client_ttft_s': [], \n",
    "        'client_output_token_per_s_per_request': [], \n",
    "        'client_end_to_end_latency_s': []\n",
    "    }\n",
    "    for request_metrics in run:\n",
    "        metrics['filename'].append(request_metrics['filename'])\n",
    "        \n",
    "        input_tokens = int(request_metrics['filename'].split('_')[2])\n",
    "        output_tokens = int(request_metrics['filename'].split('_')[3])\n",
    "        concurrent_requests = int(request_metrics['filename'].split('_')[4])\n",
    "        metrics['input_tokens'].append(input_tokens)\n",
    "        metrics['output_tokens'].append(output_tokens)\n",
    "        metrics['concurrent_requests'].append(concurrent_requests)\n",
    "        \n",
    "        metrics['server_number_input_tokens'].append(request_metrics['server_number_input_tokens'])\n",
    "        metrics['server_number_output_tokens'].append(request_metrics['server_number_output_tokens'])\n",
    "        metrics['server_ttft_s'].append(request_metrics['server_ttft_s'])\n",
    "        metrics['server_output_token_per_s_per_request'].append(request_metrics['server_output_token_per_s_per_request'])\n",
    "        metrics['server_end_to_end_latency_s'].append(request_metrics['server_end_to_end_latency_s'])\n",
    "        metrics['client_ttft_s'].append(request_metrics['client_ttft_s'])\n",
    "        metrics['client_output_token_per_s_per_request'].append(request_metrics['client_output_token_per_s_per_request'])\n",
    "        metrics['client_end_to_end_latency_s'].append(request_metrics['client_end_to_end_latency_s'])\n",
    "    df_metrics =  pd.DataFrame(metrics)\n",
    "    df_metric_stats = df_metrics.groupby(by='filename').agg(['median','std'])\n",
    "    df_metric_stats['request_count'] = df_metrics.shape[0]\n",
    "    run_stats.append(df_metric_stats)\n",
    "results = pd.concat(run_stats)\n",
    "results.columns = ['_'.join(col).strip() for col in results.columns.values]\n",
    "results.style.format(\"{:,.3f}\")"
   ]
  },
  {
   "cell_type": "code",
   "execution_count": null,
   "metadata": {},
   "outputs": [],
   "source": []
  }
 ],
 "metadata": {
  "kernelspec": {
   "display_name": "benchmark_venv",
   "language": "python",
   "name": "benchmark_venv"
  },
  "language_info": {
   "codemirror_mode": {
    "name": "ipython",
    "version": 3
   },
   "file_extension": ".py",
   "mimetype": "text/x-python",
   "name": "python",
   "nbconvert_exporter": "python",
   "pygments_lexer": "ipython3",
   "version": "3.11.3"
  }
 },
 "nbformat": 4,
 "nbformat_minor": 2
}
